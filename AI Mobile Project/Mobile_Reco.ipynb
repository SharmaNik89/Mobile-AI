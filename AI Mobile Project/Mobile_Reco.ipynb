{
 "cells": [
  {
   "cell_type": "code",
   "execution_count": 16,
   "id": "fd461ef8",
   "metadata": {},
   "outputs": [
    {
     "name": "stdout",
     "output_type": "stream",
     "text": [
      "Requirement already satisfied: openai==0.28 in c:\\users\\visha\\anaconda3\\lib\\site-packages (0.28.0)\n",
      "Requirement already satisfied: requests>=2.20 in c:\\users\\visha\\anaconda3\\lib\\site-packages (from openai==0.28) (2.31.0)\n",
      "Requirement already satisfied: tqdm in c:\\users\\visha\\anaconda3\\lib\\site-packages (from openai==0.28) (4.65.0)\n",
      "Requirement already satisfied: aiohttp in c:\\users\\visha\\anaconda3\\lib\\site-packages (from openai==0.28) (3.8.3)\n",
      "Requirement already satisfied: charset-normalizer<4,>=2 in c:\\users\\visha\\anaconda3\\lib\\site-packages (from requests>=2.20->openai==0.28) (2.0.4)\n",
      "Requirement already satisfied: idna<4,>=2.5 in c:\\users\\visha\\anaconda3\\lib\\site-packages (from requests>=2.20->openai==0.28) (3.4)\n",
      "Requirement already satisfied: urllib3<3,>=1.21.1 in c:\\users\\visha\\anaconda3\\lib\\site-packages (from requests>=2.20->openai==0.28) (1.26.16)\n",
      "Requirement already satisfied: certifi>=2017.4.17 in c:\\users\\visha\\anaconda3\\lib\\site-packages (from requests>=2.20->openai==0.28) (2023.7.22)\n",
      "Requirement already satisfied: attrs>=17.3.0 in c:\\users\\visha\\anaconda3\\lib\\site-packages (from aiohttp->openai==0.28) (22.1.0)\n",
      "Requirement already satisfied: multidict<7.0,>=4.5 in c:\\users\\visha\\anaconda3\\lib\\site-packages (from aiohttp->openai==0.28) (6.0.2)\n",
      "Requirement already satisfied: async-timeout<5.0,>=4.0.0a3 in c:\\users\\visha\\anaconda3\\lib\\site-packages (from aiohttp->openai==0.28) (4.0.2)\n",
      "Requirement already satisfied: yarl<2.0,>=1.0 in c:\\users\\visha\\anaconda3\\lib\\site-packages (from aiohttp->openai==0.28) (1.8.1)\n",
      "Requirement already satisfied: frozenlist>=1.1.1 in c:\\users\\visha\\anaconda3\\lib\\site-packages (from aiohttp->openai==0.28) (1.3.3)\n",
      "Requirement already satisfied: aiosignal>=1.1.2 in c:\\users\\visha\\anaconda3\\lib\\site-packages (from aiohttp->openai==0.28) (1.2.0)\n",
      "Requirement already satisfied: colorama in c:\\users\\visha\\anaconda3\\lib\\site-packages (from tqdm->openai==0.28) (0.4.6)\n"
     ]
    }
   ],
   "source": [
    "!pip install openai==0.28 "
   ]
  },
  {
   "cell_type": "code",
   "execution_count": 18,
   "id": "018b776f",
   "metadata": {},
   "outputs": [
    {
     "data": {
      "text/html": [
       "<div>\n",
       "<style scoped>\n",
       "    .dataframe tbody tr th:only-of-type {\n",
       "        vertical-align: middle;\n",
       "    }\n",
       "\n",
       "    .dataframe tbody tr th {\n",
       "        vertical-align: top;\n",
       "    }\n",
       "\n",
       "    .dataframe thead th {\n",
       "        text-align: right;\n",
       "    }\n",
       "</style>\n",
       "<table border=\"1\" class=\"dataframe\">\n",
       "  <thead>\n",
       "    <tr style=\"text-align: right;\">\n",
       "      <th></th>\n",
       "      <th>Model Name</th>\n",
       "      <th>RAM</th>\n",
       "      <th>ROM</th>\n",
       "      <th>Main Cam</th>\n",
       "      <th>Front Cam</th>\n",
       "      <th>Battery</th>\n",
       "      <th>Screen Size</th>\n",
       "      <th>Processor</th>\n",
       "      <th>OS</th>\n",
       "      <th>Price</th>\n",
       "      <th>Description</th>\n",
       "      <th>mobile_feature</th>\n",
       "    </tr>\n",
       "  </thead>\n",
       "  <tbody>\n",
       "    <tr>\n",
       "      <th>0</th>\n",
       "      <td>Redmi 10</td>\n",
       "      <td>4 GB</td>\n",
       "      <td>64 GB</td>\n",
       "      <td>50 MP</td>\n",
       "      <td>5 MP</td>\n",
       "      <td>6000 mAh</td>\n",
       "      <td>(6.7 inch) HD+ Display</td>\n",
       "      <td>Qualcomm Snapdragon 680 Processor</td>\n",
       "      <td>Android</td>\n",
       "      <td>10,000</td>\n",
       "      <td>Let go of the inhibitions and enjoy speed oper...</td>\n",
       "      <td>NaN</td>\n",
       "    </tr>\n",
       "    <tr>\n",
       "      <th>1</th>\n",
       "      <td>Poco M4 Pro</td>\n",
       "      <td>6 GB</td>\n",
       "      <td>128 GB</td>\n",
       "      <td>64 MP</td>\n",
       "      <td>16 MP</td>\n",
       "      <td>5000 mAh</td>\n",
       "      <td>(6.43 inch) Full HD+ AMOLED Display</td>\n",
       "      <td>Mediatek Helio G96 Processor</td>\n",
       "      <td>Android</td>\n",
       "      <td>15,000</td>\n",
       "      <td>With 6 GB of RAM, 64 GB of internal storage, a...</td>\n",
       "      <td>NaN</td>\n",
       "    </tr>\n",
       "    <tr>\n",
       "      <th>2</th>\n",
       "      <td>9 Pro Plus</td>\n",
       "      <td>8 GB</td>\n",
       "      <td>128 GB</td>\n",
       "      <td>50 MP + 2 MP</td>\n",
       "      <td>16 MP</td>\n",
       "      <td>4500 mAh</td>\n",
       "      <td>(6.4 inch) Full HD+ AMOLED Display</td>\n",
       "      <td>Mediatek Dimensity 920 Processor</td>\n",
       "      <td>Android</td>\n",
       "      <td>20,000</td>\n",
       "      <td>Display your personality and make a fashion st...</td>\n",
       "      <td>NaN</td>\n",
       "    </tr>\n",
       "    <tr>\n",
       "      <th>3</th>\n",
       "      <td>10 Pro+ 5G</td>\n",
       "      <td>8 GB</td>\n",
       "      <td>128 GB</td>\n",
       "      <td>108MP + 8MP</td>\n",
       "      <td>16 MP</td>\n",
       "      <td>5000 mAh</td>\n",
       "      <td>(6.7 inch) Full HD+ Display</td>\n",
       "      <td>Mediatek Dimensity 1080 5G Processor</td>\n",
       "      <td>Android</td>\n",
       "      <td>25,000</td>\n",
       "      <td>Display your personality and make a fashion st...</td>\n",
       "      <td>NaN</td>\n",
       "    </tr>\n",
       "    <tr>\n",
       "      <th>4</th>\n",
       "      <td>Redmi Note 11 Pro</td>\n",
       "      <td>8 GB</td>\n",
       "      <td>128 GB</td>\n",
       "      <td>108 MP</td>\n",
       "      <td>20 MP</td>\n",
       "      <td>5000 mAh</td>\n",
       "      <td>(6.67 inch) Full HD+ Display</td>\n",
       "      <td>Mediatek Helio G96</td>\n",
       "      <td>Android</td>\n",
       "      <td>17,000</td>\n",
       "      <td>Using the REDMI Note 11 Pro Smartphone, you ca...</td>\n",
       "      <td>NaN</td>\n",
       "    </tr>\n",
       "  </tbody>\n",
       "</table>\n",
       "</div>"
      ],
      "text/plain": [
       "          Model Name   RAM    ROM      Main Cam  Front Cam   Battery   \\\n",
       "0          Redmi 10   4 GB   64 GB        50 MP        5 MP  6000 mAh   \n",
       "1        Poco M4 Pro  6 GB  128 GB         64 MP      16 MP  5000 mAh   \n",
       "2        9 Pro Plus   8 GB  128 GB  50 MP + 2 MP      16 MP  4500 mAh   \n",
       "3         10 Pro+ 5G  8 GB  128 GB   108MP + 8MP      16 MP  5000 mAh   \n",
       "4  Redmi Note 11 Pro  8 GB  128 GB        108 MP      20 MP  5000 mAh   \n",
       "\n",
       "                          Screen Size                             Processor   \\\n",
       "0               (6.7 inch) HD+ Display     Qualcomm Snapdragon 680 Processor   \n",
       "1  (6.43 inch) Full HD+ AMOLED Display          Mediatek Helio G96 Processor   \n",
       "2   (6.4 inch) Full HD+ AMOLED Display      Mediatek Dimensity 920 Processor   \n",
       "3          (6.7 inch) Full HD+ Display  Mediatek Dimensity 1080 5G Processor   \n",
       "4         (6.67 inch) Full HD+ Display                    Mediatek Helio G96   \n",
       "\n",
       "        OS   Price                                        Description  \\\n",
       "0  Android  10,000  Let go of the inhibitions and enjoy speed oper...   \n",
       "1  Android  15,000  With 6 GB of RAM, 64 GB of internal storage, a...   \n",
       "2  Android  20,000  Display your personality and make a fashion st...   \n",
       "3  Android  25,000  Display your personality and make a fashion st...   \n",
       "4  Android  17,000  Using the REDMI Note 11 Pro Smartphone, you ca...   \n",
       "\n",
       "   mobile_feature  \n",
       "0             NaN  \n",
       "1             NaN  \n",
       "2             NaN  \n",
       "3             NaN  \n",
       "4             NaN  "
      ]
     },
     "execution_count": 18,
     "metadata": {},
     "output_type": "execute_result"
    }
   ],
   "source": [
    "import pandas as pd \n",
    "df = pd.read_csv('Mobile Dataset1.csv')\n",
    "df.head()"
   ]
  },
  {
   "cell_type": "code",
   "execution_count": 19,
   "id": "bbaaf46e",
   "metadata": {},
   "outputs": [],
   "source": [
    "import os,json,ast\n",
    "import openai\n",
    "import pandas as pd"
   ]
  },
  {
   "cell_type": "code",
   "execution_count": 20,
   "id": "138cbe19",
   "metadata": {},
   "outputs": [],
   "source": [
    "# read the API key\n",
    "openai.api_key = open(\"OpenAI_API_Key.txt\", \"r\").read().strip()"
   ]
  },
  {
   "cell_type": "code",
   "execution_count": 21,
   "id": "3fd78de1",
   "metadata": {},
   "outputs": [],
   "source": [
    "def initialize_conversation():\n",
    "    '''\n",
    "    Returns a list [{\"role\": \"system\", \"content\": system_message}]\n",
    "    '''\n",
    "    delimiter = \"####\"\n",
    "    example_user_request = { 'Display Size': 'high', 'Battery Life': 'high', 'Performance': 'high', 'Budget': '20000'}\n",
    "    \n",
    "    system_message = f\"\"\"\n",
    "    You are an intelliegent Mobile Expert and your goal is to suggest the best Mobile to user.\n",
    "    You need to ask relevant questions and understand user profile and requirement. \n",
    "    You final objective is to fill the values for the different keys ('Display Size','Battery Life', 'Performance', 'Budget') in the Python Dictonary and be confident values.\n",
    "    These key value pairs define the user's profile.\n",
    "    The Python dictionay looks like this {{'Display Size': 'values', 'Battery Life': 'values', 'Performance': 'values', 'Budget': 'values' }}\n",
    "    The values for all keys, except 'Budget', should be 'low', 'medium', or 'high' based on the importance of the corresponding keys, as defined by user.\n",
    "    The value for 'Budget' should be a numerical value extracted from the user's response.\n",
    "    The values currently in the dictionary are only representative values. \n",
    "    \n",
    "    {delimiter}Here are some instruction for values of the dieffernt keys. You must follow this, you'll be heavily penalized\n",
    "    - The values for all keys, except 'Budget', should be 'low', 'medium', or 'high' based on the importance of the corresponding keys, as defined by user.\n",
    "    - The value for 'Budget' should be numerical value extracted from ther user's response. \n",
    "    - 'Budget' value needs to be greater than or equal to 7999 INR. If user says less than that, please mention that there are no Mobiles available in that range.\n",
    "    - Do not randomly assign values to any of the keys. The values need to be inferred from the user's response \n",
    "    {delimiter}\n",
    "    \n",
    "    To fill the Dictionary, you need to have following chain of thoughts:\n",
    "    {delimiter} Thought 1 : Ask question to understand the user's profile and requirement. \\n\n",
    "    If their primary use for Mobile is unclear. Ask another question to comprehend their needs.\n",
    "    You are trying to fill the values of all the keys ('Display Size', 'Battery Life', 'Performance', 'Budget') in the python dictionary by understanding the user requirements.\n",
    "    Remember the instructions around the values for the different keys.\n",
    "    Answer \"Yes\" or \"No\" to indicate if you understand the requirements and have updated the values for the relevant keys. \\n\n",
    "    If yes, proceed to the next step. Otherwise, rephrase the questions to capture the requirements \\n {delimiter}\n",
    "    \n",
    "    {delimiter}Thought 2 : Now you are trying to fill the values of the keys which you couldn't in the previous step.\n",
    "    Remember the instructions around the values for the different keys. Ask questions you might have for all they keys to strengthen your understanding of the user's profile.\n",
    "    Answer \"Yes\" or \"No\" to indicate if you understood all the values for keys and are confident about the same. \n",
    "    If yes, mare to the next Thought. If no, ask question on the keys whose values you are unsure of. \\n\n",
    "    It is a good practice to ask question with a sound logic as opposed directly citing the key you want to understand value for. {delimiter}\n",
    "    \n",
    "    {delimiter}Thought 3 : Check if you have correctly updated the values for the different keys in the python dictionary. \n",
    "    If you are not confident about any of the values, ask clarifyinf questions. {delimiter}\n",
    "    \n",
    "    Follow the above chain of thoughts and only output the final updated python dictionary. \\n\n",
    "    \n",
    "    {delimiter}Here is a sample conversation between the user and assistant :\n",
    "    User : \"I'm looking for a Mobile phone.\"\n",
    "    Assistant : \"Hello I'm your Mobile Assistant tell my what are your requirements and in what budget you are looking a buy a phone.\"\n",
    "    User : \"I am looking for camera centric mobile phone.\"\n",
    "    Assistant : \"Soo, it must have a good battery to run for a long day and a good processor to process the images shot from camera.\"\n",
    "    User : \"Yes.\"\n",
    "    Assistant : \"Is your nessicity that you should have a bigger display or any specific type of displays ? \"\n",
    "    User : \"Yaa I need Amoled or HD+ Display \"\n",
    "    Assistant : \"Cool Could you kindly let me know your budget for the mobile phone? This will help me find option that fit within your price range while meeting the specified requirements.\"\n",
    "    User : \"My budget is Around 30k. \"\n",
    "    \n",
    "    Assistant : \"{example_user_request}\"\n",
    "    {delimiter}\n",
    "    \n",
    "    Start with a short welcome message and encourage the user to share their requirements.\n",
    "    \"\"\"\n",
    "    conversation = [{\"role\": \"system\", \"content\": system_message}]\n",
    "    return conversation"
   ]
  },
  {
   "cell_type": "code",
   "execution_count": 9,
   "id": "8755b259",
   "metadata": {},
   "outputs": [
    {
     "name": "stdout",
     "output_type": "stream",
     "text": [
      "[{'role': 'system', 'content': '\\n    You are an intelliegent Mobile Expert and your goal is to suggest the best Mobile to user.\\n    You need to ask relevant questions and understand user profile and requirement. \\n    You final objective is to fill the values for the different keys (\\'Display Size\\',\\'Battery Life\\', \\'Performance\\', \\'Budget\\') in the Python Dictonary and be confident values.\\n    These key value pairs define the user\\'s profile.\\n    The Python dictionay looks like this {\\'Display Size\\': \\'values\\', \\'Battery Life\\': \\'values\\', \\'Performance\\': \\'values\\', \\'Budget\\': \\'values\\' }\\n    The values for all keys, except \\'Budget\\', should be \\'low\\', \\'medium\\', or \\'high\\' based on the importance of the corresponding keys, as defined by user.\\n    The value for \\'Budget\\' should be a numerical value extracted from the user\\'s response.\\n    The values currently in the dictionary are only representative values. \\n    \\n    ####Here are some instruction for values of the dieffernt keys. You must follow this, you\\'ll be heavily penalized\\n    - The values for all keys, except \\'Budget\\', should be \\'low\\', \\'medium\\', or \\'high\\' based on the importance of the corresponding keys, as defined by user.\\n    - The value for \\'Budget\\' should be numerical value extracted from ther user\\'s response. \\n    - \\'Budget\\' value needs to be greater than or equal to 7999 INR. If user says less than that, please mention that there are no Mobiles available in that range.\\n    - Do not randomly assign values to any of the keys. The values need to be inferred from the user\\'s response \\n    ####\\n    \\n    To fill the Dictionary, you need to have following chain of thoughts:\\n    #### Thought 1 : Ask question to understand the user\\'s profile and requirement. \\n\\n    If their primary use for Mobile is unclear. Ask another question to comprehend their needs.\\n    You are trying to fill the values of all the keys (\\'Display Size\\', \\'Battery Life\\', \\'Performance\\', \\'Budget\\') in the python dictionary by understanding the user requirements.\\n    Remember the instructions around the values for the different keys.\\n    Answer \"Yes\" or \"No\" to indicate if you understand the requirements and have updated the values for the relevant keys. \\n\\n    If yes, proceed to the next step. Otherwise, rephrase the questions to capture the requirements \\n ####\\n    \\n    ####Thought 2 : Now you are trying to fill the values of the keys which you couldn\\'t in the previous step.\\n    Remember the instructions around the values for the different keys. Ask questions you might have for all they keys to strengthen your understanding of the user\\'s profile.\\n    Answer \"Yes\" or \"No\" to indicate if you understood all the values for keys and are confident about the same. \\n    If yes, mare to the next Thought. If no, ask question on the keys whose values you are unsure of. \\n\\n    It is a good practice to ask question with a sound logic as opposed directly citing the key you want to understand value for. ####\\n    \\n    ####Thought 3 : Check if you have correctly updated the values for the different keys in the python dictionary. \\n    If you are not confident about any of the values, ask clarifyinf questions. ####\\n    \\n    Follow the above chain of thoughts and only output the final updated python dictionary. \\n\\n    \\n    ####Here is a sample conversation between the user and assistant :\\n    User : \"I\\'m looking for a Mobile phone.\"\\n    Assistant : \"Hello I\\'m your Mobile Assistant tell my what are your requirements and in what budget you are looking a buy a phone.\"\\n    User : \"I am looking for camera centric mobile phone.\"\\n    Assistant : \"Soo, it must have a good battery to run for a long day and a good processor to process the images shot from camera.\"\\n    User : \"Yes.\"\\n    Assistant : \"Is your nessicity that you should have a bigger display or any specific type of displays ? \"\\n    User : \"Yaa I need Amoled or HD+ Display \"\\n    Assistant : \"Cool Could you kindly let me know your budget for the mobile phone? This will help me find option that fit within your price range while meeting the specified requirements.\"\\n    User : \"My budget is Around 30k. \"\\n    \\n    Assistant : \"{\\'Display Size\\': \\'high\\', \\'Battery Life\\': \\'high\\', \\'Performance\\': \\'high\\', \\'Budget\\': \\'20000\\'}\"\\n    ####\\n    \\n    Start with a short welcome message and encourage the user to share their requirements.\\n    '}]\n"
     ]
    }
   ],
   "source": [
    "debug_conversation = initialize_conversation()\n",
    "print(debug_conversation)"
   ]
  },
  {
   "cell_type": "markdown",
   "id": "dd4d3cf9",
   "metadata": {},
   "source": []
  },
  {
   "cell_type": "code",
   "execution_count": 10,
   "id": "c02674a4",
   "metadata": {},
   "outputs": [],
   "source": [
    "def get_chat_model_completions(messages):\n",
    "    response = openai.ChatCompletion.create(\n",
    "        model=\"gpt-3.5-turbo\",\n",
    "        messages=messages,\n",
    "        temperature=0.7, # this is the degree of randomness of the model's output\n",
    "        max_tokens = 2500\n",
    "    )\n",
    "    return response.choices[0].message[\"content\"]"
   ]
  },
  {
   "cell_type": "code",
   "execution_count": 42,
   "id": "d98ffadc",
   "metadata": {},
   "outputs": [
    {
     "name": "stdout",
     "output_type": "stream",
     "text": [
      "Hello! I'm your Mobile Expert Assistant. Please let me know your requirements and budget, and I'll suggest the best mobile phone for you.\n"
     ]
    }
   ],
   "source": [
    "debug_introduction = get_chat_model_completions(debug_conversation)\n",
    "print(debug_introduction)"
   ]
  },
  {
   "cell_type": "code",
   "execution_count": 43,
   "id": "362a116e",
   "metadata": {},
   "outputs": [],
   "source": [
    "debug_user_input = \"Hi, I am Vishal, I need a Mobile for which has good camera.\""
   ]
  },
  {
   "cell_type": "code",
   "execution_count": 44,
   "id": "9049a8f4",
   "metadata": {},
   "outputs": [
    {
     "name": "stdout",
     "output_type": "stream",
     "text": [
      "Hello Vishal! I'm your Mobile Expert. I can help you find a mobile phone with a good camera. Could you please tell me if you have any other specific requirements for the phone?\n"
     ]
    }
   ],
   "source": [
    "debug_conversation.append({\"role\" :  \"user\", \"content\" : debug_user_input})\n",
    "debug_response_assistant = get_chat_model_completions(debug_conversation)\n",
    "print(debug_response_assistant)"
   ]
  },
  {
   "cell_type": "markdown",
   "id": "85444b39",
   "metadata": {},
   "source": [
    "#### Adding Moderation check "
   ]
  },
  {
   "cell_type": "code",
   "execution_count": 11,
   "id": "34935cf6",
   "metadata": {},
   "outputs": [],
   "source": [
    "def moderation_check(user_input) :\n",
    "    response = openai.Moderation.create(input = user_input)\n",
    "    moderation_output = response[\"results\"][0]\n",
    "    if moderation_output[\"flagged\"] == True :\n",
    "        return \"Flagged\"\n",
    "    else: \n",
    "        return \"Not Flagged\""
   ]
  },
  {
   "cell_type": "markdown",
   "id": "30ce9e0c",
   "metadata": {},
   "source": [
    "Checking moderation the debug_input user "
   ]
  },
  {
   "cell_type": "code",
   "execution_count": 46,
   "id": "4a0607fa",
   "metadata": {},
   "outputs": [
    {
     "name": "stdout",
     "output_type": "stream",
     "text": [
      "Not Flagged\n"
     ]
    }
   ],
   "source": [
    "debug_moderation = moderation_check(debug_user_input)\n",
    "print(debug_moderation)"
   ]
  },
  {
   "cell_type": "code",
   "execution_count": 23,
   "id": "66d1338d",
   "metadata": {},
   "outputs": [
    {
     "name": "stdout",
     "output_type": "stream",
     "text": [
      "Flagged\n",
      "Not Flagged\n"
     ]
    }
   ],
   "source": [
    "\n",
    "print(moderation_check(\"I want to kill Ravan.\"))\n",
    "print(moderation_check(\"I need a mobile to hack Android.\"))"
   ]
  },
  {
   "cell_type": "code",
   "execution_count": 12,
   "id": "20c164e9",
   "metadata": {},
   "outputs": [],
   "source": [
    "def intent_confirmation_layer(response_assistant):\n",
    "    delimiter = \"####\"\n",
    "    prompt = f\"\"\"\n",
    "    You are a senior evluator who has an eye for detail.\n",
    "    Yor are provided an input. You naeed to evaluate if the input has the following keys: 'Display Size', 'Battery Life', 'Performance', 'Budget'\n",
    "    Next you need to evaluate if the keys have the value filled correctly.\n",
    "    The values for all keys, except 'budget' needa to contain a number with currency. \n",
    "    Output a string 'Yes' is the input contains the dictionary with the values correctly filled for all keys. \n",
    "    Otherwise out the string 'No'. \n",
    "    \n",
    "    Here is the input : {response_assistant}\n",
    "    Only output a one-word string - Yes/No. \n",
    "    \"\"\"\n",
    "    confirmation = openai.Completion.create(\n",
    "                                    model = \"gpt-3.5-turbo-instruct\",\n",
    "                                    prompt = prompt,\n",
    "                                    temperature = 0)\n",
    "    \n",
    "    return confirmation[\"choices\"][0][\"text\"]"
   ]
  },
  {
   "cell_type": "code",
   "execution_count": 86,
   "id": "1a428cbd",
   "metadata": {},
   "outputs": [
    {
     "name": "stdout",
     "output_type": "stream",
     "text": [
      "\n",
      "No\n"
     ]
    }
   ],
   "source": [
    "debug_confirmation = intent_confirmation_layer(debug_response_assistant)\n",
    "print(debug_confirmation)"
   ]
  },
  {
   "cell_type": "code",
   "execution_count": 13,
   "id": "248bcbc0",
   "metadata": {},
   "outputs": [],
   "source": [
    "debug_response_assistant_n = f\"\"\"\n",
    "\n",
    "Based on the information you have provided, I have updated the values in the dictionary as follows:\n",
    "\n",
    "{{'Display Size': 'low', 'Battery Life': 'high', 'Performance': 'low', 'Budget': '25000'}}\n",
    "\n",
    "Please note that the values for 'Display Size' is set to 'low' since they are not a priority for your camera sentric mobile phone.\n",
    "\n",
    "Is there anything else I can assist you with?\n",
    "\"\"\""
   ]
  },
  {
   "cell_type": "code",
   "execution_count": 60,
   "id": "e59632c4",
   "metadata": {
    "scrolled": true
   },
   "outputs": [
    {
     "data": {
      "text/plain": [
       "'\\n\\nNo'"
      ]
     },
     "execution_count": 60,
     "metadata": {},
     "output_type": "execute_result"
    }
   ],
   "source": [
    "intent_confirmatio_layer(debug_response_assistant_n)"
   ]
  },
  {
   "cell_type": "code",
   "execution_count": 22,
   "id": "c61d9916",
   "metadata": {},
   "outputs": [],
   "source": [
    "def dictionary_present(response):\n",
    "    delimiter = \"####\"\n",
    "    user_req = {'Display Size': 'low','Battery Life': 'high','Performance': 'high','Budget': '25000 INR'}\n",
    "    prompt = f\"\"\"You are a python expert. You are provided an input.\n",
    "            You have to check if there is a python dictionary present in the string.\n",
    "            It will have the following format {user_req}.\n",
    "            Your task is to just extract and return only the python dictionary from the input.\n",
    "            The output should match the format as {user_req}.\n",
    "            The output should contain the exact keys and values as present in the input.\n",
    "\n",
    "            Here are some sample input output pairs for better understanding:\n",
    "            {delimiter}\n",
    "            input: - Display Size : low - Battery Life : high - Performance : high - Budget: 20,000 INR\n",
    "            output: {{'Display Size': 'low', 'Battery Life': 'high', 'Performance': 'high', 'Budget': '20000'}}\n",
    "\n",
    "            input: {{'Display Size':     'low', 'Battery Life':     'high', 'Performance':    'low', 'Budget': '10,000'}}\n",
    "            output: {{'Display Size': 'low', 'Battery Life': 'high', 'Performance': 'low', 'Budget': '10000'}}\n",
    "\n",
    "            input: Here is your user profile 'Display Size': 'high','Battery Life': 'medium','Perdormance': 'medium','Budget': '17000 INR'\n",
    "            output: {{'Display Size': 'high','Battery Life': 'medium','Performance': 'medium', Budget': '17000'}}\n",
    "            {delimiter}\n",
    "\n",
    "            Here is the input {response}\n",
    "\n",
    "            \"\"\"\n",
    "    response = openai.Completion.create(\n",
    "        model=\"gpt-3.5-turbo-instruct\",\n",
    "        prompt=prompt,\n",
    "        max_tokens = 2000,\n",
    "        temperature=0.4,\n",
    "        #top_p=0.4\n",
    "    )\n",
    "    return response[\"choices\"][0][\"text\"]"
   ]
  },
  {
   "cell_type": "code",
   "execution_count": 23,
   "id": "46b4a150",
   "metadata": {},
   "outputs": [
    {
     "name": "stdout",
     "output_type": "stream",
     "text": [
      "\n"
     ]
    }
   ],
   "source": [
    "response_dict_n = dictionary_present(debug_response_assistant_n)\n",
    "print(response_dict_n)"
   ]
  },
  {
   "cell_type": "code",
   "execution_count": 24,
   "id": "c57dad78",
   "metadata": {},
   "outputs": [],
   "source": [
    "debug_response_assistant_n = f\"\"\"Thank you for providing your budget. Based on your budget of 20,000 INR, I will consider this while recommending suitable Mobile Phone options for you.\n",
    "Here is the final recommendation for your Mobile Phone:\n",
    "\n",
    "- Display Size: low\n",
    "- Battery Life: high\n",
    "- Performance: high\n",
    "- Budget: 20,000 INR\n",
    "\n",
    "Please note that these specifications are based on your requirements for surfing and a decent display within your budget. Let me know if there's anything else I can assist you with!\"\"\""
   ]
  },
  {
   "cell_type": "code",
   "execution_count": 70,
   "id": "7f61cc5b",
   "metadata": {},
   "outputs": [
    {
     "name": "stdout",
     "output_type": "stream",
     "text": [
      "\n",
      "{'Display Size': 'low', 'Battery Life': 'high', 'Performance': 'high', 'Budget': '20000'}\n"
     ]
    }
   ],
   "source": [
    "response_dict_n = dictionary_present(debug_response_assistant_n)\n",
    "print(response_dict_n)"
   ]
  },
  {
   "cell_type": "code",
   "execution_count": 25,
   "id": "b9753900",
   "metadata": {},
   "outputs": [],
   "source": [
    "debug_conversation = initialize_conversation()\n",
    "debug_introduction = get_chat_model_completions(debug_conversation)\n",
    "debug_user_input = \"Hi, I am Vishal, i am looking for camera centiric mobile phone.\"\n",
    "debug_moderation = moderation_check(debug_user_input)\n",
    "debug_conversation.append({\"role\": \"user\", \"content\": debug_user_input})\n",
    "debug_response_assistant = get_chat_model_completions(debug_conversation)\n",
    "debug_moderation = moderation_check(debug_response_assistant)\n",
    "debug_conversation.append({\"role\": \"assistant\", \"content\": debug_response_assistant})\n",
    "debug_confirmation = intent_confirmation_layer(debug_response_assistant)\n",
    "response_dict_n = dictionary_present(debug_response_assistant_n)"
   ]
  },
  {
   "cell_type": "code",
   "execution_count": 28,
   "id": "030dc7b7",
   "metadata": {},
   "outputs": [],
   "source": [
    "def product_map_layer(mobile_description):\n",
    "\n",
    "    delimiter = \"#####\"\n",
    "    mobile_spec = {\n",
    "        \"Display Size\": \"(Screen Size in inches)\",\n",
    "        \"Battery Life\": \"(Battery capacity in mAh)\",\n",
    "        \"Performance\": \"(Processor, RAM)\",\n",
    "        \"Budget\": \"(Price range)\"\n",
    "    }\n",
    "\n",
    "    values = {'low', 'medium', 'high'}\n",
    "\n",
    "    prompt = f\"\"\"\n",
    "    You are a Mobile Specifications Classifier whose task is to extract key features from mobile descriptions.\n",
    "    To analyze each mobile, follow these steps:\n",
    "    Step 1: Extract the mobile's primary features from the description: {mobile_description}\n",
    "    Step 2: Store the extracted features in {mobile_spec}\n",
    "    Step 3: Classify each of the items in {mobile_spec} into {values} based on the following rules:\n",
    "    {delimiter}\n",
    "    Display Size: low: < if screen size is below 6.2 inches >,\n",
    "    medium: < if screen size is between 6.2 and 6.5 inches >,\n",
    "    high: < if screen size is above 6.5 inches >,\n",
    "\n",
    "    Battery Life: low: < if battery capacity is below 4700 mAh >,\n",
    "    medium: < if battery capacity is between 5000 and 5500 mAh >,\n",
    "    high: < if battery capacity is above 5600 mAh >,\n",
    "\n",
    "    Performance: low: < if entry-level processor and 4GB RAM >,\n",
    "    medium: < if mid-range processor and 6GB RAM >,\n",
    "    high: < if high-performance processor and 6-8GB RAM or more >,\n",
    "\n",
    "    {delimiter}\n",
    "\n",
    "    {delimiter}\n",
    "    Here are some input-output pairs for few-shot learning:\n",
    "    input1: \"The Samsung Galaxy A30s features a 6.4-inch Super AMOLED display providing vibrant colors and sharp visuals. With a battery capacity of 4000 mAh, it offers long-lasting usage. It is powered by an Exynos 7904 processor and 4GB RAM, ensuring smooth performance for daily tasks. Priced at 15,000/- INR it's a mid-range device suitable for budget-conscious users.\"\n",
    "    output1: {{'Display Size': 'medium', 'Battery Life': 'low', 'Performance': 'low'}}\n",
    "\n",
    "    input2: \"The Apple iPhone 13 Pro Max boasts a 6.7-inch OLED display offering stunning visuals. It houses a 4352 mAh battery providing extensive usage. Equipped with an A15 Bionic chip and 8GB RAM, it delivers top-notch performance. Priced at 60,000/- INR it's a premium device catering to users seeking high-end features.\"\n",
    "    output2: {{'Display Size': 'high', 'Battery Life': 'low', 'Performance': 'high'}}\n",
    "    {delimiter}\n",
    "\n",
    "    Follow the above steps and output the dictionary {mobile_spec} for the given mobile description: {mobile_description}.\n",
    "    \"\"\"\n",
    "\n",
    "    # Using the Completion endpoint\n",
    "    response = openai.Completion.create(\n",
    "        model=\"gpt-3.5-turbo-instruct\",\n",
    "        prompt=prompt,\n",
    "        max_tokens=2000,\n",
    "        temperature=0.3,\n",
    "        # top_p=0.4\n",
    "    )\n",
    "    return response[\"choices\"][0][\"text\"]\n"
   ]
  },
  {
   "cell_type": "code",
   "execution_count": 31,
   "id": "4263a108",
   "metadata": {},
   "outputs": [],
   "source": [
    "\n",
    "mobile_df= pd.read_csv('Mobile Dataset1.csv')\n",
    "\n",
    "mobile_df['mobile_feature'] = mobile_df['Description'].apply(lambda x: product_map_layer(x))"
   ]
  },
  {
   "cell_type": "code",
   "execution_count": 32,
   "id": "c3f067d6",
   "metadata": {},
   "outputs": [],
   "source": [
    "mobile_df.to_csv(\"updated_mobile.csv\", index=False, header=True)"
   ]
  },
  {
   "cell_type": "code",
   "execution_count": null,
   "id": "9e92dea0",
   "metadata": {},
   "outputs": [],
   "source": [
    "    "
   ]
  },
  {
   "cell_type": "code",
   "execution_count": 30,
   "id": "2b9bb228",
   "metadata": {},
   "outputs": [],
   "source": [
    "import ast\n",
    "import re\n",
    "\n",
    "def extract_dictionary_from_string(string):\n",
    "    regex_pattern = r\"\\{[^{}]+\\}\"\n",
    "\n",
    "    dictionary_matches = re.findall(regex_pattern, string)\n",
    "\n",
    "    # Extract the first dictionary match and convert it to lowercase\n",
    "    if dictionary_matches:\n",
    "        dictionary_string = dictionary_matches[0]\n",
    "        dictionary_string = dictionary_string.lower()\n",
    "\n",
    "        dictionary = ast.literal_eval(dictionary_string)\n",
    "    return dictionary"
   ]
  },
  {
   "cell_type": "code",
   "execution_count": 113,
   "id": "e454b15b",
   "metadata": {},
   "outputs": [
    {
     "name": "stdout",
     "output_type": "stream",
     "text": [
      "{'display size': 'high', 'battery life': 'high', 'performance': 'low', 'budget': '20000'}\n"
     ]
    }
   ],
   "source": [
    "string = \" \\n \\t           Output: {{'Display Size': 'high', 'Battery Life': 'high', 'Performance': 'low', 'Budget': '20000'}}ad\"\n",
    "extracted_dict = extract_dictionary_from_string(string)\n",
    "print(extracted_dict)"
   ]
  },
  {
   "cell_type": "code",
   "execution_count": 114,
   "id": "6c2122ac",
   "metadata": {},
   "outputs": [],
   "source": [
    "def compare_mobiles_with_user(user_req_string):\n",
    "    mobile_df = pd.read_csv('updated_mobile.csv') \n",
    "    user_requirements = extract_dictionary_from_string(user_req_string)\n",
    "    budget = int(user_requirements.get('budget', '0').replace(',', '').split()[0])\n",
    "\n",
    "    filtered_mobiles = mobile_df.copy()\n",
    "    filtered_mobiles['Price'] = filtered_mobiles['Price'].str.replace(',', '').astype(int)\n",
    "    filtered_mobiles = filtered_mobiles[filtered_mobiles['Price'] <= budget].copy()\n",
    "\n",
    "    mappings = {\n",
    "        'low': 0,\n",
    "        'medium': 1,\n",
    "        'high': 2\n",
    "    }\n",
    "\n",
    "    # Create 'Score' column in the DataFrame and initialize to 0\n",
    "    filtered_mobiles['Score'] = 0\n",
    "    for index, row in filtered_mobiles.iterrows():\n",
    "        user_product_match_str = row['mobile_feature']\n",
    "        mobile_values = extract_dictionary_from_string(user_product_match_str)\n",
    "        score = 0\n",
    "\n",
    "        for key, user_value in user_requirements.items():\n",
    "            if key.lower() == 'budget':\n",
    "                continue  # Skip budget comparison\n",
    "            mobile_value = mobile_values.get(key, None)\n",
    "            mobile_mapping = mappings.get(mobile_value.lower(), -1)\n",
    "            user_mapping = mappings.get(user_value.lower(), -1)\n",
    "            if mobile_mapping >= user_mapping:\n",
    "                # If the mobile value is greater than or equal to the user value, the score is incremented by 1\n",
    "                score += 1\n",
    "\n",
    "        filtered_mobiles.loc[index, 'Score'] = score\n",
    "\n",
    "    # Sort the mobiles by score in descending order and return the top 3 products\n",
    "    top_mobiles = filtered_mobiles.drop('mobile_feature', axis=1)\n",
    "    top_mobiles = top_mobiles.sort_values('Score', ascending=False).head(3)\n",
    "\n",
    "    return top_mobiles.to_json(orient='records')"
   ]
  },
  {
   "cell_type": "code",
   "execution_count": 115,
   "id": "9715203f",
   "metadata": {},
   "outputs": [
    {
     "name": "stdout",
     "output_type": "stream",
     "text": [
      "[{\"Model Name\":\"9 Pro Plus \",\"RAM\":\"8 GB\",\"ROM \":\"128 GB\",\"Main Cam \":\"50 MP + 2 MP\",\"Front Cam \":\"16 MP\",\"Battery \":\"4500 mAh\",\"Screen Size \":\"(6.4 inch) Full HD+ AMOLED Display\",\"Processor \":\"Mediatek Dimensity 920 Processor\",\"OS\":\"Android\",\"Price\":20000,\"Description\":\"Display your personality and make a fashion statement with the Realme 9 Pro+ which gives you a fantastic user experience. With its (6.4) AMOLED 2160 Hz PWM Dimming, TUV Rheinland Low Blue Light Certificate, 1260 Hz Turbocharged Touch Sampling, and X-touch Anti-mistouch Algorithm, this smartphone makes a great advancement. With its 50MP ProLight Camera, this smartphone also provides you with amazing photographic and filming features that let you capture priceless memories. This smartphone further advances the advancement by providing you with a Dimensity 920 Processor, which is completely compatible with all  bands. Moreover, the Realme 9 Pro+ large 8+8 GB Dynamic RAM arrangement allows you to view many files or programmes, play games, and switch between apps without experiencing any latency.\",\"Score\":3},{\"Model Name\":\"Redmi Note 11 Pro\",\"RAM\":\"8 GB\",\"ROM \":\"128 GB\",\"Main Cam \":\"108 MP\",\"Front Cam \":\"20 MP\",\"Battery \":\"5000 mAh\",\"Screen Size \":\"(6.67 inch) Full HD+ Display\",\"Processor \":\"Mediatek Helio G96\",\"OS\":\"Android\",\"Price\":17000,\"Description\":\"Using the REDMI Note 11 Pro Smartphone, you can accomplish several tasks and also stay entertained when needed. Its MIUI 13 feature lets you smoothly use its functions and features while understanding them with ease. Also, this smartphone is integrated with dual stereo speakers, which allow you to enjoy loud and clear audio. Furthermore, with up to a 108 MP pro-grade camera, this smartphone allows precise and detailed photography and videography.\",\"Score\":3},{\"Model Name\":\"Redmi 10 \",\"RAM\":\"4 GB\",\"ROM \":\"64 GB\",\"Main Cam \":\"50 MP \",\"Front Cam \":\"5 MP\",\"Battery \":\"6000 mAh\",\"Screen Size \":\"(6.7 inch) HD+ Display\",\"Processor \":\"Qualcomm Snapdragon 680 Processor\",\"OS\":\"Android\",\"Price\":10000,\"Description\":\"Let go of the inhibitions and enjoy speed operation and flawless user experience with Redmi 10. This phone is powered by Snapdragon 680 processor with a savvy 6 nm architecture that makes juggling fun. This device is incorporated with 4 GB of RAM and 64 GB of internal storage that provides you with seamless efficiency. With the UFS 2.2 storage, you can experience an unmatched speed in the operation. This smartphone boasts a large 6000 mAh battery with an 18 W fast charging capability giving your phone a necessary boost to achieve optimal efficiency. With a mesmerising 17.04 cm (6.71) display and a 20.6:9 aspect ratio, Redmi 10 offers an immersive user experience. The Redmi 10 is equipped with a 50 MP camera and a 2 MP depth sensor allowing you to capture breathtaking pictures with enthralling imagery.\",\"Score\":2}]\n"
     ]
    }
   ],
   "source": [
    "top_3_mobiles = compare_mobiles_with_user(response_dict_n)\n",
    "print(top_3_mobiles)"
   ]
  },
  {
   "cell_type": "code",
   "execution_count": 119,
   "id": "785a4237",
   "metadata": {},
   "outputs": [],
   "source": [
    "def recommendation_validation(mobile_recommendation):\n",
    "    data = json.loads(mobile_recommendation)\n",
    "    data1 = []\n",
    "    for i in range(len(data)):\n",
    "        if data[i]['Score'] > 2:\n",
    "            data1.append(data[i])\n",
    "\n",
    "    return data1"
   ]
  },
  {
   "cell_type": "code",
   "execution_count": 120,
   "id": "e772dbdf",
   "metadata": {},
   "outputs": [
    {
     "name": "stdout",
     "output_type": "stream",
     "text": [
      "[{'Model Name': '9 Pro Plus ', 'RAM': '8 GB', 'ROM ': '128 GB', 'Main Cam ': '50 MP + 2 MP', 'Front Cam ': '16 MP', 'Battery ': '4500 mAh', 'Screen Size ': '(6.4 inch) Full HD+ AMOLED Display', 'Processor ': 'Mediatek Dimensity 920 Processor', 'OS': 'Android', 'Price': 20000, 'Description': 'Display your personality and make a fashion statement with the Realme 9 Pro+ which gives you a fantastic user experience. With its (6.4) AMOLED 2160 Hz PWM Dimming, TUV Rheinland Low Blue Light Certificate, 1260 Hz Turbocharged Touch Sampling, and X-touch Anti-mistouch Algorithm, this smartphone makes a great advancement. With its 50MP ProLight Camera, this smartphone also provides you with amazing photographic and filming features that let you capture priceless memories. This smartphone further advances the advancement by providing you with a Dimensity 920 Processor, which is completely compatible with all  bands. Moreover, the Realme 9 Pro+ large 8+8 GB Dynamic RAM arrangement allows you to view many files or programmes, play games, and switch between apps without experiencing any latency.', 'Score': 3}, {'Model Name': 'Redmi Note 11 Pro', 'RAM': '8 GB', 'ROM ': '128 GB', 'Main Cam ': '108 MP', 'Front Cam ': '20 MP', 'Battery ': '5000 mAh', 'Screen Size ': '(6.67 inch) Full HD+ Display', 'Processor ': 'Mediatek Helio G96', 'OS': 'Android', 'Price': 17000, 'Description': 'Using the REDMI Note 11 Pro Smartphone, you can accomplish several tasks and also stay entertained when needed. Its MIUI 13 feature lets you smoothly use its functions and features while understanding them with ease. Also, this smartphone is integrated with dual stereo speakers, which allow you to enjoy loud and clear audio. Furthermore, with up to a 108 MP pro-grade camera, this smartphone allows precise and detailed photography and videography.', 'Score': 3}]\n"
     ]
    }
   ],
   "source": [
    "validated_data = recommendation_validation(top_3_mobiles)\n",
    "print(validated_data)"
   ]
  },
  {
   "cell_type": "code",
   "execution_count": 121,
   "id": "a69e5bcc",
   "metadata": {},
   "outputs": [
    {
     "data": {
      "text/plain": [
       "2"
      ]
     },
     "execution_count": 121,
     "metadata": {},
     "output_type": "execute_result"
    }
   ],
   "source": [
    "len(validated_data)"
   ]
  },
  {
   "cell_type": "markdown",
   "id": "13baa5ab",
   "metadata": {},
   "source": [
    "#### Product Recommendation Layer "
   ]
  },
  {
   "cell_type": "code",
   "execution_count": 122,
   "id": "6eff3fd6",
   "metadata": {},
   "outputs": [],
   "source": [
    "def initialize_conv_reco(products):\n",
    "    system_message = f\"\"\"\n",
    "    You are an intelligent mobile gadget expert and you are tasked with the objective to \\\n",
    "    solve the user queries about any product from the catalogue: {products}.\\\n",
    "    You should keep the user profile in mind while answering the questions.\\\n",
    "\n",
    "    Start with a brief summary of each mobile in the following format, in decreasing order of price of mobiles:\n",
    "    1. <Mobile Name> : <Major specifications of the mobile>, <Price in Rs>\n",
    "    2. <Mobile Name> : <Major specifications of the mobile>, <Price in Rs>\n",
    "\n",
    "    \"\"\"\n",
    "    conversation = [{\"role\": \"system\", \"content\": system_message}]\n",
    "    return conversation"
   ]
  },
  {
   "cell_type": "code",
   "execution_count": 123,
   "id": "2c56f02d",
   "metadata": {},
   "outputs": [],
   "source": [
    "debug_conversation_reco = initialize_conv_reco(top_3_mobiles)"
   ]
  },
  {
   "cell_type": "code",
   "execution_count": 125,
   "id": "d28457d5",
   "metadata": {},
   "outputs": [
    {
     "name": "stdout",
     "output_type": "stream",
     "text": [
      "1. Redmi Note 11 Pro: 8 GB RAM, 128 GB ROM, 108 MP Main Camera, 20 MP Front Camera, 5000 mAh Battery, 6.67 inch Full HD+ Display, Mediatek Helio G96 Processor, Android OS, Price: Rs 17,000\n",
      "2. Realme 9 Pro Plus: 8 GB RAM, 128 GB ROM, 50 MP + 2 MP Main Camera, 16 MP Front Camera, 4500 mAh Battery, 6.4 inch Full HD+ AMOLED Display, Mediatek Dimensity 920 Processor, Android OS, Price: Rs 20,000\n",
      "3. Redmi 10: 4 GB RAM, 64 GB ROM, 50 MP Main Camera, 5 MP Front Camera, 6000 mAh Battery, 6.7 inch HD+ Display, Qualcomm Snapdragon 680 Processor, Android OS, Price: Rs 10,000\n",
      "\n"
     ]
    }
   ],
   "source": [
    "debug_recommendation = get_chat_model_completions(debug_conversation_reco)\n",
    "print(debug_recommendation + '\\n')"
   ]
  },
  {
   "cell_type": "code",
   "execution_count": 126,
   "id": "89789063",
   "metadata": {},
   "outputs": [],
   "source": [
    "debug_conversation_reco.append({\"role\": \"user\", \"content\": \"This is my user profile\" + response_dict_n})\n",
    "debug_conversation_reco.append({\"role\": \"assistant\", \"content\": debug_recommendation})"
   ]
  },
  {
   "cell_type": "code",
   "execution_count": 127,
   "id": "ee9c8e1e",
   "metadata": {},
   "outputs": [],
   "source": [
    "debug_user_input = \"Which one is value for money ?\""
   ]
  },
  {
   "cell_type": "code",
   "execution_count": 128,
   "id": "63c2d2f6",
   "metadata": {},
   "outputs": [
    {
     "name": "stdout",
     "output_type": "stream",
     "text": [
      "\n",
      "Based on your budget of Rs 20,000 and considering value for money, the Redmi Note 11 Pro would be a good choice. It offers a higher resolution main camera (108 MP) and a larger battery capacity (5000 mAh) compared to the Realme 9 Pro Plus. Additionally, it is priced at Rs 17,000, which is lower than the Realme 9 Pro Plus.\n",
      "\n"
     ]
    }
   ],
   "source": [
    "debug_conversation_reco.append({\"role\": \"user\", \"content\": debug_user_input})\n",
    "debug_response_asst_reco = get_chat_model_completions(debug_conversation_reco)\n",
    "print('\\n' + debug_response_asst_reco + '\\n')"
   ]
  },
  {
   "cell_type": "code",
   "execution_count": 34,
   "id": "10916920",
   "metadata": {},
   "outputs": [],
   "source": [
    "def dialogue_mgmt_system():\n",
    "    conversation = initialize_conversation()\n",
    "    introduction = get_chat_model_completions(conversation)\n",
    "    print(introduction + '\\n')\n",
    "    top_3_mobiles = None\n",
    "    user_input = ''\n",
    "\n",
    "    while(user_input != \"exit\"):\n",
    "        user_input = input(\"\")\n",
    "\n",
    "        moderation = moderation_check(user_input)\n",
    "        if moderation == 'Flagged':\n",
    "            print(\"Sorry, this message has been flagged. Please restart your conversation.\")\n",
    "            break\n",
    "\n",
    "        if top_3_mobiles is None:\n",
    "            conversation.append({\"role\": \"user\", \"content\": user_input})\n",
    "\n",
    "            response_assistant = get_chat_model_completions(conversation)\n",
    "\n",
    "            moderation = moderation_check(response_assistant)\n",
    "            if moderation == 'Flagged':\n",
    "                print(\"Sorry, this message has been flagged. Please restart your conversation.\")\n",
    "                break\n",
    "\n",
    "            confirmation = intent_confirmation_layer(response_assistant)\n",
    "\n",
    "            moderation = moderation_check(confirmation)\n",
    "            if moderation == 'Flagged':\n",
    "                print(\"Sorry, this message has been flagged. Please restart your conversation.\")\n",
    "                break\n",
    "\n",
    "            if \"No\" in confirmation:\n",
    "                conversation.append({\"role\": \"assistant\", \"content\": response_assistant})\n",
    "                print(\"\\n\" + response_assistant + \"\\n\")\n",
    "                print('\\n' + confirmation + '\\n')\n",
    "            else:\n",
    "                print(\"\\n\" + response_assistant + \"\\n\")\n",
    "                print('\\n' + confirmation + '\\n')\n",
    "                response = dictionary_present(response_assistant)\n",
    "\n",
    "                moderation = moderation_check(response)\n",
    "                if moderation == 'Flagged':\n",
    "                    print(\"Sorry, this message has been flagged. Please restart your conversation.\")\n",
    "                    break\n",
    "\n",
    "                print('\\n' + response + '\\n')\n",
    "                print(\"Thank you for providing all the information. Kindly wait, while I fetch the products: \\n\")\n",
    "                top_3_mobiles = compare_mobiles_with_user(response) \n",
    "\n",
    "                validated_reco = recommendation_validation(top_3_mobiles)\n",
    "\n",
    "                if len(validated_reco) == 0:\n",
    "                    print(\"Sorry, we do not have mobiles that match your requirements. Connecting you to a human expert.\")\n",
    "                    break\n",
    "\n",
    "                conversation_reco = initialize_conv_reco(validated_reco)\n",
    "                recommendation = get_chat_model_completions(conversation_reco)\n",
    "\n",
    "                moderation = moderation_check(recommendation)\n",
    "                if moderation == 'Flagged':\n",
    "                    print(\"Sorry, this message has been flagged. Please restart your conversation.\")\n",
    "                    break\n",
    "\n",
    "                conversation_reco.append({\"role\": \"user\", \"content\": \"This is my user profile\" + response})\n",
    "\n",
    "                conversation_reco.append({\"role\": \"assistant\", \"content\": recommendation})\n",
    "\n",
    "                print(recommendation + '\\n')\n",
    "\n",
    "        else:\n",
    "            conversation_reco.append({\"role\": \"user\", \"content\": user_input})\n",
    "\n",
    "            response_asst_reco = get_chat_model_completions(conversation_reco)\n",
    "\n",
    "            moderation = moderation_check(response_asst_reco)\n",
    "            if moderation == 'Flagged':\n",
    "                print(\"Sorry, this message has been flagged. Please restart your conversation.\")\n",
    "                break\n",
    "\n",
    "            print('\\n' + response_asst_reco + '\\n')\n",
    "            conversation.append({\"role\": \"assistant\", \"content\": response_asst_reco})\n"
   ]
  },
  {
   "cell_type": "code",
   "execution_count": null,
   "id": "45f0e869",
   "metadata": {},
   "outputs": [],
   "source": []
  },
  {
   "cell_type": "code",
   "execution_count": null,
   "id": "eabc5509",
   "metadata": {},
   "outputs": [],
   "source": []
  }
 ],
 "metadata": {
  "kernelspec": {
   "display_name": "Python 3 (ipykernel)",
   "language": "python",
   "name": "python3"
  },
  "language_info": {
   "codemirror_mode": {
    "name": "ipython",
    "version": 3
   },
   "file_extension": ".py",
   "mimetype": "text/x-python",
   "name": "python",
   "nbconvert_exporter": "python",
   "pygments_lexer": "ipython3",
   "version": "3.11.4"
  }
 },
 "nbformat": 4,
 "nbformat_minor": 5
}
